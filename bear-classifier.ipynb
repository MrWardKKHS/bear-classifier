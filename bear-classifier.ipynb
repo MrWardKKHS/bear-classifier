{
 "cells": [
  {
   "cell_type": "code",
   "execution_count": 7,
   "id": "2841ec3e-8b33-4aa5-96a4-bf16aa2ffe5a",
   "metadata": {},
   "outputs": [
    {
     "name": "stderr",
     "output_type": "stream",
     "text": [
      "'conda' is not recognized as an internal or external command,\n",
      "operable program or batch file.\n",
      "'conda' is not recognized as an internal or external command,\n",
      "operable program or batch file.\n"
     ]
    },
    {
     "name": "stdout",
     "output_type": "stream",
     "text": [
      "Requirement already satisfied: voila in c:\\users\\award\\appdata\\local\\programs\\python\\python310\\lib\\site-packages (0.3.5)\n",
      "Requirement already satisfied: nbconvert<7,>=6.4.5 in c:\\users\\award\\appdata\\local\\programs\\python\\python310\\lib\\site-packages (from voila) (6.5.0)\n",
      "Requirement already satisfied: jupyter-client<8,>=6.1.3 in c:\\users\\award\\appdata\\local\\programs\\python\\python310\\lib\\site-packages (from voila) (7.3.1)\n",
      "Requirement already satisfied: websockets>=9.0 in c:\\users\\award\\appdata\\local\\programs\\python\\python310\\lib\\site-packages (from voila) (10.3)\n",
      "Requirement already satisfied: jupyterlab-server<3,>=2.3.0 in c:\\users\\award\\appdata\\local\\programs\\python\\python310\\lib\\site-packages (from voila) (2.13.0)\n",
      "Requirement already satisfied: traitlets<6,>=5.0.3 in c:\\users\\award\\appdata\\local\\programs\\python\\python310\\lib\\site-packages (from voila) (5.2.0)\n",
      "Requirement already satisfied: jupyter-server<2.0.0,>=0.3.0 in c:\\users\\award\\appdata\\local\\programs\\python\\python310\\lib\\site-packages (from voila) (1.17.0)\n",
      "Requirement already satisfied: nbclient<0.6,>=0.4.0 in c:\\users\\award\\appdata\\local\\programs\\python\\python310\\lib\\site-packages (from voila) (0.5.13)\n",
      "Requirement already satisfied: jupyter-core>=4.9.2 in c:\\users\\award\\appdata\\local\\programs\\python\\python310\\lib\\site-packages (from jupyter-client<8,>=6.1.3->voila) (4.10.0)\n",
      "Requirement already satisfied: pyzmq>=22.3 in c:\\users\\award\\appdata\\local\\programs\\python\\python310\\lib\\site-packages (from jupyter-client<8,>=6.1.3->voila) (22.3.0)\n",
      "Requirement already satisfied: python-dateutil>=2.8.2 in c:\\users\\award\\appdata\\local\\programs\\python\\python310\\lib\\site-packages (from jupyter-client<8,>=6.1.3->voila) (2.8.2)\n",
      "Requirement already satisfied: tornado>=6.0 in c:\\users\\award\\appdata\\local\\programs\\python\\python310\\lib\\site-packages (from jupyter-client<8,>=6.1.3->voila) (6.1)\n",
      "Requirement already satisfied: entrypoints in c:\\users\\award\\appdata\\local\\programs\\python\\python310\\lib\\site-packages (from jupyter-client<8,>=6.1.3->voila) (0.4)\n",
      "Requirement already satisfied: nest-asyncio>=1.5.4 in c:\\users\\award\\appdata\\local\\programs\\python\\python310\\lib\\site-packages (from jupyter-client<8,>=6.1.3->voila) (1.5.5)\n",
      "Requirement already satisfied: packaging in c:\\users\\award\\appdata\\local\\programs\\python\\python310\\lib\\site-packages (from jupyter-server<2.0.0,>=0.3.0->voila) (21.3)\n",
      "Requirement already satisfied: pywinpty in c:\\users\\award\\appdata\\local\\programs\\python\\python310\\lib\\site-packages (from jupyter-server<2.0.0,>=0.3.0->voila) (2.0.5)\n",
      "Requirement already satisfied: websocket-client in c:\\users\\award\\appdata\\local\\programs\\python\\python310\\lib\\site-packages (from jupyter-server<2.0.0,>=0.3.0->voila) (1.3.2)\n",
      "Requirement already satisfied: argon2-cffi in c:\\users\\award\\appdata\\local\\programs\\python\\python310\\lib\\site-packages (from jupyter-server<2.0.0,>=0.3.0->voila) (21.3.0)\n",
      "Requirement already satisfied: jinja2 in c:\\users\\award\\appdata\\local\\programs\\python\\python310\\lib\\site-packages (from jupyter-server<2.0.0,>=0.3.0->voila) (3.0.3)\n",
      "Requirement already satisfied: anyio<4,>=3.1.0 in c:\\users\\award\\appdata\\local\\programs\\python\\python310\\lib\\site-packages (from jupyter-server<2.0.0,>=0.3.0->voila) (3.6.1)\n",
      "Requirement already satisfied: Send2Trash in c:\\users\\award\\appdata\\local\\programs\\python\\python310\\lib\\site-packages (from jupyter-server<2.0.0,>=0.3.0->voila) (1.8.0)\n",
      "Requirement already satisfied: terminado>=0.8.3 in c:\\users\\award\\appdata\\local\\programs\\python\\python310\\lib\\site-packages (from jupyter-server<2.0.0,>=0.3.0->voila) (0.13.3)\n",
      "Requirement already satisfied: prometheus-client in c:\\users\\award\\appdata\\local\\programs\\python\\python310\\lib\\site-packages (from jupyter-server<2.0.0,>=0.3.0->voila) (0.14.1)\n",
      "Requirement already satisfied: nbformat>=5.2.0 in c:\\users\\award\\appdata\\local\\programs\\python\\python310\\lib\\site-packages (from jupyter-server<2.0.0,>=0.3.0->voila) (5.4.0)\n",
      "Requirement already satisfied: requests in c:\\users\\award\\appdata\\local\\programs\\python\\python310\\lib\\site-packages (from jupyterlab-server<3,>=2.3.0->voila) (2.27.1)\n",
      "Requirement already satisfied: jsonschema>=3.0.1 in c:\\users\\award\\appdata\\local\\programs\\python\\python310\\lib\\site-packages (from jupyterlab-server<3,>=2.3.0->voila) (4.5.1)\n",
      "Requirement already satisfied: babel in c:\\users\\award\\appdata\\local\\programs\\python\\python310\\lib\\site-packages (from jupyterlab-server<3,>=2.3.0->voila) (2.10.1)\n",
      "Requirement already satisfied: json5 in c:\\users\\award\\appdata\\local\\programs\\python\\python310\\lib\\site-packages (from jupyterlab-server<3,>=2.3.0->voila) (0.9.8)\n",
      "Requirement already satisfied: mistune<2,>=0.8.1 in c:\\users\\award\\appdata\\local\\programs\\python\\python310\\lib\\site-packages (from nbconvert<7,>=6.4.5->voila) (0.8.4)\n",
      "Requirement already satisfied: pandocfilters>=1.4.1 in c:\\users\\award\\appdata\\local\\programs\\python\\python310\\lib\\site-packages (from nbconvert<7,>=6.4.5->voila) (1.5.0)\n",
      "Requirement already satisfied: beautifulsoup4 in c:\\users\\award\\appdata\\local\\programs\\python\\python310\\lib\\site-packages (from nbconvert<7,>=6.4.5->voila) (4.11.1)\n",
      "Requirement already satisfied: pygments>=2.4.1 in c:\\users\\award\\appdata\\local\\programs\\python\\python310\\lib\\site-packages (from nbconvert<7,>=6.4.5->voila) (2.12.0)\n",
      "Requirement already satisfied: MarkupSafe>=2.0 in c:\\users\\award\\appdata\\local\\programs\\python\\python310\\lib\\site-packages (from nbconvert<7,>=6.4.5->voila) (2.1.0)\n",
      "Requirement already satisfied: jupyterlab-pygments in c:\\users\\award\\appdata\\local\\programs\\python\\python310\\lib\\site-packages (from nbconvert<7,>=6.4.5->voila) (0.2.2)\n",
      "Requirement already satisfied: bleach in c:\\users\\award\\appdata\\local\\programs\\python\\python310\\lib\\site-packages (from nbconvert<7,>=6.4.5->voila) (5.0.0)\n",
      "Requirement already satisfied: defusedxml in c:\\users\\award\\appdata\\local\\programs\\python\\python310\\lib\\site-packages (from nbconvert<7,>=6.4.5->voila) (0.7.1)\n",
      "Requirement already satisfied: tinycss2 in c:\\users\\award\\appdata\\local\\programs\\python\\python310\\lib\\site-packages (from nbconvert<7,>=6.4.5->voila) (1.1.1)\n",
      "Requirement already satisfied: sniffio>=1.1 in c:\\users\\award\\appdata\\local\\programs\\python\\python310\\lib\\site-packages (from anyio<4,>=3.1.0->jupyter-server<2.0.0,>=0.3.0->voila) (1.2.0)\n",
      "Requirement already satisfied: idna>=2.8 in c:\\users\\award\\appdata\\local\\programs\\python\\python310\\lib\\site-packages (from anyio<4,>=3.1.0->jupyter-server<2.0.0,>=0.3.0->voila) (3.3)\n",
      "Requirement already satisfied: pyrsistent!=0.17.0,!=0.17.1,!=0.17.2,>=0.14.0 in c:\\users\\award\\appdata\\local\\programs\\python\\python310\\lib\\site-packages (from jsonschema>=3.0.1->jupyterlab-server<3,>=2.3.0->voila) (0.18.1)\n",
      "Requirement already satisfied: attrs>=17.4.0 in c:\\users\\award\\appdata\\local\\programs\\python\\python310\\lib\\site-packages (from jsonschema>=3.0.1->jupyterlab-server<3,>=2.3.0->voila) (21.4.0)\n",
      "Requirement already satisfied: pywin32>=1.0 in c:\\users\\award\\appdata\\local\\programs\\python\\python310\\lib\\site-packages (from jupyter-core>=4.9.2->jupyter-client<8,>=6.1.3->voila) (304)\n",
      "Requirement already satisfied: fastjsonschema in c:\\users\\award\\appdata\\local\\programs\\python\\python310\\lib\\site-packages (from nbformat>=5.2.0->jupyter-server<2.0.0,>=0.3.0->voila) (2.15.3)\n",
      "Requirement already satisfied: six>=1.5 in c:\\users\\award\\appdata\\local\\programs\\python\\python310\\lib\\site-packages (from python-dateutil>=2.8.2->jupyter-client<8,>=6.1.3->voila) (1.16.0)\n",
      "Requirement already satisfied: argon2-cffi-bindings in c:\\users\\award\\appdata\\local\\programs\\python\\python310\\lib\\site-packages (from argon2-cffi->jupyter-server<2.0.0,>=0.3.0->voila) (21.2.0)\n",
      "Requirement already satisfied: pytz>=2015.7 in c:\\users\\award\\appdata\\local\\programs\\python\\python310\\lib\\site-packages (from babel->jupyterlab-server<3,>=2.3.0->voila) (2021.3)\n",
      "Requirement already satisfied: soupsieve>1.2 in c:\\users\\award\\appdata\\local\\programs\\python\\python310\\lib\\site-packages (from beautifulsoup4->nbconvert<7,>=6.4.5->voila) (2.3.2.post1)\n",
      "Requirement already satisfied: webencodings in c:\\users\\award\\appdata\\local\\programs\\python\\python310\\lib\\site-packages (from bleach->nbconvert<7,>=6.4.5->voila) (0.5.1)\n",
      "Requirement already satisfied: pyparsing!=3.0.5,>=2.0.2 in c:\\users\\award\\appdata\\local\\programs\\python\\python310\\lib\\site-packages (from packaging->jupyter-server<2.0.0,>=0.3.0->voila) (3.0.6)\n",
      "Requirement already satisfied: certifi>=2017.4.17 in c:\\users\\award\\appdata\\local\\programs\\python\\python310\\lib\\site-packages (from requests->jupyterlab-server<3,>=2.3.0->voila) (2021.10.8)\n",
      "Requirement already satisfied: urllib3<1.27,>=1.21.1 in c:\\users\\award\\appdata\\local\\programs\\python\\python310\\lib\\site-packages (from requests->jupyterlab-server<3,>=2.3.0->voila) (1.26.8)\n",
      "Requirement already satisfied: charset-normalizer~=2.0.0 in c:\\users\\award\\appdata\\local\\programs\\python\\python310\\lib\\site-packages (from requests->jupyterlab-server<3,>=2.3.0->voila) (2.0.12)\n",
      "Requirement already satisfied: cffi>=1.0.1 in c:\\users\\award\\appdata\\local\\programs\\python\\python310\\lib\\site-packages (from argon2-cffi-bindings->argon2-cffi->jupyter-server<2.0.0,>=0.3.0->voila) (1.15.0)\n",
      "Requirement already satisfied: pycparser in c:\\users\\award\\appdata\\local\\programs\\python\\python310\\lib\\site-packages (from cffi>=1.0.1->argon2-cffi-bindings->argon2-cffi->jupyter-server<2.0.0,>=0.3.0->voila) (2.21)\n"
     ]
    },
    {
     "name": "stderr",
     "output_type": "stream",
     "text": [
      "WARNING: You are using pip version 22.0.4; however, version 22.1 is available.\n",
      "You should consider upgrading via the 'C:\\Users\\award\\AppData\\Local\\Programs\\Python\\Python310\\python.exe -m pip install --upgrade pip' command.\n",
      "Enabling: voila\n",
      "- Writing config: C:\\Users\\award\\AppData\\Local\\Programs\\Python\\Python310\\etc\\jupyter\n",
      "    - Validating...\n",
      "      voila 0.3.5 ok\n",
      "Exception ignored in: <function Application.__del__ at 0x00000241B8A9A3B0>\n",
      "Traceback (most recent call last):\n",
      "  File \"C:\\Users\\award\\AppData\\Local\\Programs\\Python\\Python310\\lib\\site-packages\\traitlets\\config\\application.py\", line 955, in __del__\n",
      "  File \"C:\\Users\\award\\AppData\\Local\\Programs\\Python\\Python310\\lib\\site-packages\\traitlets\\config\\application.py\", line 945, in close_handlers\n",
      "  File \"C:\\Users\\award\\AppData\\Local\\Programs\\Python\\Python310\\lib\\site-packages\\traitlets\\traitlets.py\", line 683, in __get__\n",
      "  File \"C:\\Users\\award\\AppData\\Local\\Programs\\Python\\Python310\\lib\\site-packages\\traitlets\\traitlets.py\", line 657, in get\n",
      "  File \"C:\\Users\\award\\AppData\\Local\\Programs\\Python\\Python310\\lib\\site-packages\\traitlets\\traitlets.py\", line 1428, in _notify_observers\n",
      "  File \"C:\\Users\\award\\AppData\\Local\\Programs\\Python\\Python310\\lib\\site-packages\\traitlets\\config\\application.py\", line 273, in _observe_logging_default\n",
      "  File \"C:\\Users\\award\\AppData\\Local\\Programs\\Python\\Python310\\lib\\site-packages\\traitlets\\config\\application.py\", line 278, in _configure_logging\n",
      "  File \"C:\\Users\\award\\AppData\\Local\\Programs\\Python\\Python310\\lib\\logging\\config.py\", line 810, in dictConfig\n",
      "  File \"C:\\Users\\award\\AppData\\Local\\Programs\\Python\\Python310\\lib\\logging\\config.py\", line 547, in configure\n",
      "ValueError: Unable to configure formatter 'console'\n"
     ]
    },
    {
     "name": "stdout",
     "output_type": "stream",
     "text": [
      "Requirement already satisfied: fastai>=2.0.0 in c:\\users\\award\\appdata\\local\\programs\\python\\python310\\lib\\site-packages (from -r requirements.txt (line 1)) (2.6.3)\n",
      "Requirement already satisfied: graphviz in c:\\users\\award\\appdata\\local\\programs\\python\\python310\\lib\\site-packages (from -r requirements.txt (line 2)) (0.20)\n",
      "Requirement already satisfied: ipywidgets in c:\\users\\award\\appdata\\local\\programs\\python\\python310\\lib\\site-packages (from -r requirements.txt (line 3)) (7.7.0)\n",
      "Requirement already satisfied: matplotlib in c:\\users\\award\\appdata\\local\\programs\\python\\python310\\lib\\site-packages (from -r requirements.txt (line 4)) (3.5.1)\n",
      "Requirement already satisfied: nbdev>=0.2.12 in c:\\users\\award\\appdata\\local\\programs\\python\\python310\\lib\\site-packages (from -r requirements.txt (line 5)) (1.2.8)\n",
      "Requirement already satisfied: pandas in c:\\users\\award\\appdata\\local\\programs\\python\\python310\\lib\\site-packages (from -r requirements.txt (line 6)) (1.3.5)\n",
      "Requirement already satisfied: scikit_learn in c:\\users\\award\\appdata\\local\\programs\\python\\python310\\lib\\site-packages (from -r requirements.txt (line 7)) (1.1.0)\n",
      "Requirement already satisfied: azure-cognitiveservices-search-imagesearch in c:\\users\\award\\appdata\\local\\programs\\python\\python310\\lib\\site-packages (from -r requirements.txt (line 8)) (2.0.0)\n",
      "Requirement already satisfied: sentencepiece in c:\\users\\award\\appdata\\local\\programs\\python\\python310\\lib\\site-packages (from -r requirements.txt (line 9)) (0.1.96)\n",
      "Requirement already satisfied: requests in c:\\users\\award\\appdata\\local\\programs\\python\\python310\\lib\\site-packages (from fastai>=2.0.0->-r requirements.txt (line 1)) (2.27.1)\n",
      "Requirement already satisfied: fastcore<1.5,>=1.3.27 in c:\\users\\award\\appdata\\local\\programs\\python\\python310\\lib\\site-packages (from fastai>=2.0.0->-r requirements.txt (line 1)) (1.4.3)\n",
      "Requirement already satisfied: fastdownload<2,>=0.0.5 in c:\\users\\award\\appdata\\local\\programs\\python\\python310\\lib\\site-packages (from fastai>=2.0.0->-r requirements.txt (line 1)) (0.0.5)\n",
      "Requirement already satisfied: packaging in c:\\users\\award\\appdata\\local\\programs\\python\\python310\\lib\\site-packages (from fastai>=2.0.0->-r requirements.txt (line 1)) (21.3)\n",
      "Requirement already satisfied: scipy in c:\\users\\award\\appdata\\local\\programs\\python\\python310\\lib\\site-packages (from fastai>=2.0.0->-r requirements.txt (line 1)) (1.8.0)\n",
      "Requirement already satisfied: pillow>6.0.0 in c:\\users\\award\\appdata\\local\\programs\\python\\python310\\lib\\site-packages (from fastai>=2.0.0->-r requirements.txt (line 1)) (9.0.0)\n",
      "Requirement already satisfied: torch<1.12,>=1.7.0 in c:\\users\\award\\appdata\\local\\programs\\python\\python310\\lib\\site-packages (from fastai>=2.0.0->-r requirements.txt (line 1)) (1.11.0)\n",
      "Requirement already satisfied: pyyaml in c:\\users\\award\\appdata\\local\\programs\\python\\python310\\lib\\site-packages (from fastai>=2.0.0->-r requirements.txt (line 1)) (6.0)\n",
      "Requirement already satisfied: fastprogress>=0.2.4 in c:\\users\\award\\appdata\\local\\programs\\python\\python310\\lib\\site-packages (from fastai>=2.0.0->-r requirements.txt (line 1)) (1.0.2)\n",
      "Requirement already satisfied: pip in c:\\users\\award\\appdata\\local\\programs\\python\\python310\\lib\\site-packages (from fastai>=2.0.0->-r requirements.txt (line 1)) (22.0.4)\n",
      "Requirement already satisfied: spacy<4 in c:\\users\\award\\appdata\\local\\programs\\python\\python310\\lib\\site-packages (from fastai>=2.0.0->-r requirements.txt (line 1)) (3.3.0)\n",
      "Requirement already satisfied: torchvision>=0.8.2 in c:\\users\\award\\appdata\\local\\programs\\python\\python310\\lib\\site-packages (from fastai>=2.0.0->-r requirements.txt (line 1)) (0.12.0)\n",
      "Requirement already satisfied: ipython>=4.0.0 in c:\\users\\award\\appdata\\local\\programs\\python\\python310\\lib\\site-packages (from ipywidgets->-r requirements.txt (line 3)) (8.3.0)\n",
      "Requirement already satisfied: widgetsnbextension~=3.6.0 in c:\\users\\award\\appdata\\local\\programs\\python\\python310\\lib\\site-packages (from ipywidgets->-r requirements.txt (line 3)) (3.6.0)\n",
      "Requirement already satisfied: jupyterlab-widgets>=1.0.0 in c:\\users\\award\\appdata\\local\\programs\\python\\python310\\lib\\site-packages (from ipywidgets->-r requirements.txt (line 3)) (1.1.0)\n",
      "Requirement already satisfied: ipython-genutils~=0.2.0 in c:\\users\\award\\appdata\\local\\programs\\python\\python310\\lib\\site-packages (from ipywidgets->-r requirements.txt (line 3)) (0.2.0)\n",
      "Requirement already satisfied: traitlets>=4.3.1 in c:\\users\\award\\appdata\\local\\programs\\python\\python310\\lib\\site-packages (from ipywidgets->-r requirements.txt (line 3)) (5.2.0)\n",
      "Requirement already satisfied: nbformat>=4.2.0 in c:\\users\\award\\appdata\\local\\programs\\python\\python310\\lib\\site-packages (from ipywidgets->-r requirements.txt (line 3)) (5.4.0)\n",
      "Requirement already satisfied: ipykernel>=4.5.1 in c:\\users\\award\\appdata\\local\\programs\\python\\python310\\lib\\site-packages (from ipywidgets->-r requirements.txt (line 3)) (6.13.0)\n",
      "Requirement already satisfied: python-dateutil>=2.7 in c:\\users\\award\\appdata\\local\\programs\\python\\python310\\lib\\site-packages (from matplotlib->-r requirements.txt (line 4)) (2.8.2)\n",
      "Requirement already satisfied: numpy>=1.17 in c:\\users\\award\\appdata\\local\\programs\\python\\python310\\lib\\site-packages (from matplotlib->-r requirements.txt (line 4)) (1.22.0)\n",
      "Requirement already satisfied: kiwisolver>=1.0.1 in c:\\users\\award\\appdata\\local\\programs\\python\\python310\\lib\\site-packages (from matplotlib->-r requirements.txt (line 4)) (1.4.2)\n",
      "Requirement already satisfied: pyparsing>=2.2.1 in c:\\users\\award\\appdata\\local\\programs\\python\\python310\\lib\\site-packages (from matplotlib->-r requirements.txt (line 4)) (3.0.6)\n",
      "Requirement already satisfied: fonttools>=4.22.0 in c:\\users\\award\\appdata\\local\\programs\\python\\python310\\lib\\site-packages (from matplotlib->-r requirements.txt (line 4)) (4.28.5)\n",
      "Requirement already satisfied: cycler>=0.10 in c:\\users\\award\\appdata\\local\\programs\\python\\python310\\lib\\site-packages (from matplotlib->-r requirements.txt (line 4)) (0.11.0)\n",
      "Requirement already satisfied: jupyter-client<8 in c:\\users\\award\\appdata\\local\\programs\\python\\python310\\lib\\site-packages (from nbdev>=0.2.12->-r requirements.txt (line 5)) (7.3.1)\n",
      "Requirement already satisfied: fastrelease in c:\\users\\award\\appdata\\local\\programs\\python\\python310\\lib\\site-packages (from nbdev>=0.2.12->-r requirements.txt (line 5)) (0.1.16)\n",
      "Requirement already satisfied: nbconvert>=6.1 in c:\\users\\award\\appdata\\local\\programs\\python\\python310\\lib\\site-packages (from nbdev>=0.2.12->-r requirements.txt (line 5)) (6.5.0)\n",
      "Requirement already satisfied: jupyter in c:\\users\\award\\appdata\\local\\programs\\python\\python310\\lib\\site-packages (from nbdev>=0.2.12->-r requirements.txt (line 5)) (1.0.0)\n",
      "Requirement already satisfied: ghapi in c:\\users\\award\\appdata\\local\\programs\\python\\python310\\lib\\site-packages (from nbdev>=0.2.12->-r requirements.txt (line 5)) (0.1.20)\n",
      "Requirement already satisfied: Jinja2<3.1.0 in c:\\users\\award\\appdata\\local\\programs\\python\\python310\\lib\\site-packages (from nbdev>=0.2.12->-r requirements.txt (line 5)) (3.0.3)\n",
      "Requirement already satisfied: pytz>=2017.3 in c:\\users\\award\\appdata\\local\\programs\\python\\python310\\lib\\site-packages (from pandas->-r requirements.txt (line 6)) (2021.3)\n",
      "Requirement already satisfied: threadpoolctl>=2.0.0 in c:\\users\\award\\appdata\\local\\programs\\python\\python310\\lib\\site-packages (from scikit_learn->-r requirements.txt (line 7)) (3.1.0)\n",
      "Requirement already satisfied: joblib>=1.0.0 in c:\\users\\award\\appdata\\local\\programs\\python\\python310\\lib\\site-packages (from scikit_learn->-r requirements.txt (line 7)) (1.1.0)\n",
      "Requirement already satisfied: msrestazure<2.0.0,>=0.4.32 in c:\\users\\award\\appdata\\local\\programs\\python\\python310\\lib\\site-packages (from azure-cognitiveservices-search-imagesearch->-r requirements.txt (line 8)) (0.6.4)\n",
      "Requirement already satisfied: msrest>=0.5.0 in c:\\users\\award\\appdata\\local\\programs\\python\\python310\\lib\\site-packages (from azure-cognitiveservices-search-imagesearch->-r requirements.txt (line 8)) (0.6.21)\n",
      "Requirement already satisfied: azure-common~=1.1 in c:\\users\\award\\appdata\\local\\programs\\python\\python310\\lib\\site-packages (from azure-cognitiveservices-search-imagesearch->-r requirements.txt (line 8)) (1.1.28)\n",
      "Requirement already satisfied: psutil in c:\\users\\award\\appdata\\local\\programs\\python\\python310\\lib\\site-packages (from ipykernel>=4.5.1->ipywidgets->-r requirements.txt (line 3)) (5.9.0)\n",
      "Requirement already satisfied: tornado>=6.1 in c:\\users\\award\\appdata\\local\\programs\\python\\python310\\lib\\site-packages (from ipykernel>=4.5.1->ipywidgets->-r requirements.txt (line 3)) (6.1)\n",
      "Requirement already satisfied: matplotlib-inline>=0.1 in c:\\users\\award\\appdata\\local\\programs\\python\\python310\\lib\\site-packages (from ipykernel>=4.5.1->ipywidgets->-r requirements.txt (line 3)) (0.1.3)\n",
      "Requirement already satisfied: nest-asyncio in c:\\users\\award\\appdata\\local\\programs\\python\\python310\\lib\\site-packages (from ipykernel>=4.5.1->ipywidgets->-r requirements.txt (line 3)) (1.5.5)\n",
      "Requirement already satisfied: debugpy>=1.0 in c:\\users\\award\\appdata\\local\\programs\\python\\python310\\lib\\site-packages (from ipykernel>=4.5.1->ipywidgets->-r requirements.txt (line 3)) (1.6.0)\n",
      "Requirement already satisfied: decorator in c:\\users\\award\\appdata\\local\\programs\\python\\python310\\lib\\site-packages (from ipython>=4.0.0->ipywidgets->-r requirements.txt (line 3)) (5.1.1)\n",
      "Requirement already satisfied: prompt-toolkit!=3.0.0,!=3.0.1,<3.1.0,>=2.0.0 in c:\\users\\award\\appdata\\local\\programs\\python\\python310\\lib\\site-packages (from ipython>=4.0.0->ipywidgets->-r requirements.txt (line 3)) (3.0.29)\n",
      "Requirement already satisfied: colorama in c:\\users\\award\\appdata\\local\\programs\\python\\python310\\lib\\site-packages (from ipython>=4.0.0->ipywidgets->-r requirements.txt (line 3)) (0.4.4)\n",
      "Requirement already satisfied: backcall in c:\\users\\award\\appdata\\local\\programs\\python\\python310\\lib\\site-packages (from ipython>=4.0.0->ipywidgets->-r requirements.txt (line 3)) (0.2.0)\n",
      "Requirement already satisfied: pickleshare in c:\\users\\award\\appdata\\local\\programs\\python\\python310\\lib\\site-packages (from ipython>=4.0.0->ipywidgets->-r requirements.txt (line 3)) (0.7.5)\n",
      "Requirement already satisfied: setuptools>=18.5 in c:\\users\\award\\appdata\\local\\programs\\python\\python310\\lib\\site-packages (from ipython>=4.0.0->ipywidgets->-r requirements.txt (line 3)) (58.1.0)\n",
      "Requirement already satisfied: stack-data in c:\\users\\award\\appdata\\local\\programs\\python\\python310\\lib\\site-packages (from ipython>=4.0.0->ipywidgets->-r requirements.txt (line 3)) (0.2.0)\n",
      "Requirement already satisfied: jedi>=0.16 in c:\\users\\award\\appdata\\local\\programs\\python\\python310\\lib\\site-packages (from ipython>=4.0.0->ipywidgets->-r requirements.txt (line 3)) (0.18.1)\n",
      "Requirement already satisfied: pygments>=2.4.0 in c:\\users\\award\\appdata\\local\\programs\\python\\python310\\lib\\site-packages (from ipython>=4.0.0->ipywidgets->-r requirements.txt (line 3)) (2.12.0)\n",
      "Requirement already satisfied: MarkupSafe>=2.0 in c:\\users\\award\\appdata\\local\\programs\\python\\python310\\lib\\site-packages (from Jinja2<3.1.0->nbdev>=0.2.12->-r requirements.txt (line 5)) (2.1.0)\n",
      "Requirement already satisfied: entrypoints in c:\\users\\award\\appdata\\local\\programs\\python\\python310\\lib\\site-packages (from jupyter-client<8->nbdev>=0.2.12->-r requirements.txt (line 5)) (0.4)\n",
      "Requirement already satisfied: pyzmq>=22.3 in c:\\users\\award\\appdata\\local\\programs\\python\\python310\\lib\\site-packages (from jupyter-client<8->nbdev>=0.2.12->-r requirements.txt (line 5)) (22.3.0)\n",
      "Requirement already satisfied: jupyter-core>=4.9.2 in c:\\users\\award\\appdata\\local\\programs\\python\\python310\\lib\\site-packages (from jupyter-client<8->nbdev>=0.2.12->-r requirements.txt (line 5)) (4.10.0)\n",
      "Requirement already satisfied: isodate>=0.6.0 in c:\\users\\award\\appdata\\local\\programs\\python\\python310\\lib\\site-packages (from msrest>=0.5.0->azure-cognitiveservices-search-imagesearch->-r requirements.txt (line 8)) (0.6.1)\n",
      "Requirement already satisfied: requests-oauthlib>=0.5.0 in c:\\users\\award\\appdata\\local\\programs\\python\\python310\\lib\\site-packages (from msrest>=0.5.0->azure-cognitiveservices-search-imagesearch->-r requirements.txt (line 8)) (1.3.1)\n",
      "Requirement already satisfied: certifi>=2017.4.17 in c:\\users\\award\\appdata\\local\\programs\\python\\python310\\lib\\site-packages (from msrest>=0.5.0->azure-cognitiveservices-search-imagesearch->-r requirements.txt (line 8)) (2021.10.8)\n",
      "Requirement already satisfied: adal<2.0.0,>=0.6.0 in c:\\users\\award\\appdata\\local\\programs\\python\\python310\\lib\\site-packages (from msrestazure<2.0.0,>=0.4.32->azure-cognitiveservices-search-imagesearch->-r requirements.txt (line 8)) (1.2.7)\n",
      "Requirement already satisfied: six in c:\\users\\award\\appdata\\local\\programs\\python\\python310\\lib\\site-packages (from msrestazure<2.0.0,>=0.4.32->azure-cognitiveservices-search-imagesearch->-r requirements.txt (line 8)) (1.16.0)\n",
      "Requirement already satisfied: pandocfilters>=1.4.1 in c:\\users\\award\\appdata\\local\\programs\\python\\python310\\lib\\site-packages (from nbconvert>=6.1->nbdev>=0.2.12->-r requirements.txt (line 5)) (1.5.0)\n",
      "Requirement already satisfied: defusedxml in c:\\users\\award\\appdata\\local\\programs\\python\\python310\\lib\\site-packages (from nbconvert>=6.1->nbdev>=0.2.12->-r requirements.txt (line 5)) (0.7.1)\n",
      "Requirement already satisfied: beautifulsoup4 in c:\\users\\award\\appdata\\local\\programs\\python\\python310\\lib\\site-packages (from nbconvert>=6.1->nbdev>=0.2.12->-r requirements.txt (line 5)) (4.11.1)\n",
      "Requirement already satisfied: jupyterlab-pygments in c:\\users\\award\\appdata\\local\\programs\\python\\python310\\lib\\site-packages (from nbconvert>=6.1->nbdev>=0.2.12->-r requirements.txt (line 5)) (0.2.2)\n",
      "Requirement already satisfied: tinycss2 in c:\\users\\award\\appdata\\local\\programs\\python\\python310\\lib\\site-packages (from nbconvert>=6.1->nbdev>=0.2.12->-r requirements.txt (line 5)) (1.1.1)\n",
      "Requirement already satisfied: mistune<2,>=0.8.1 in c:\\users\\award\\appdata\\local\\programs\\python\\python310\\lib\\site-packages (from nbconvert>=6.1->nbdev>=0.2.12->-r requirements.txt (line 5)) (0.8.4)\n",
      "Requirement already satisfied: bleach in c:\\users\\award\\appdata\\local\\programs\\python\\python310\\lib\\site-packages (from nbconvert>=6.1->nbdev>=0.2.12->-r requirements.txt (line 5)) (5.0.0)\n",
      "Requirement already satisfied: nbclient>=0.5.0 in c:\\users\\award\\appdata\\local\\programs\\python\\python310\\lib\\site-packages (from nbconvert>=6.1->nbdev>=0.2.12->-r requirements.txt (line 5)) (0.5.13)\n",
      "Requirement already satisfied: jsonschema>=2.6 in c:\\users\\award\\appdata\\local\\programs\\python\\python310\\lib\\site-packages (from nbformat>=4.2.0->ipywidgets->-r requirements.txt (line 3)) (4.5.1)\n",
      "Requirement already satisfied: fastjsonschema in c:\\users\\award\\appdata\\local\\programs\\python\\python310\\lib\\site-packages (from nbformat>=4.2.0->ipywidgets->-r requirements.txt (line 3)) (2.15.3)\n",
      "Requirement already satisfied: charset-normalizer~=2.0.0 in c:\\users\\award\\appdata\\local\\programs\\python\\python310\\lib\\site-packages (from requests->fastai>=2.0.0->-r requirements.txt (line 1)) (2.0.12)\n",
      "Requirement already satisfied: idna<4,>=2.5 in c:\\users\\award\\appdata\\local\\programs\\python\\python310\\lib\\site-packages (from requests->fastai>=2.0.0->-r requirements.txt (line 1)) (3.3)\n",
      "Requirement already satisfied: urllib3<1.27,>=1.21.1 in c:\\users\\award\\appdata\\local\\programs\\python\\python310\\lib\\site-packages (from requests->fastai>=2.0.0->-r requirements.txt (line 1)) (1.26.8)\n",
      "Requirement already satisfied: catalogue<2.1.0,>=2.0.6 in c:\\users\\award\\appdata\\local\\programs\\python\\python310\\lib\\site-packages (from spacy<4->fastai>=2.0.0->-r requirements.txt (line 1)) (2.0.7)\n",
      "Requirement already satisfied: spacy-loggers<2.0.0,>=1.0.0 in c:\\users\\award\\appdata\\local\\programs\\python\\python310\\lib\\site-packages (from spacy<4->fastai>=2.0.0->-r requirements.txt (line 1)) (1.0.2)\n",
      "Requirement already satisfied: typer<0.5.0,>=0.3.0 in c:\\users\\award\\appdata\\local\\programs\\python\\python310\\lib\\site-packages (from spacy<4->fastai>=2.0.0->-r requirements.txt (line 1)) (0.4.1)\n",
      "Requirement already satisfied: tqdm<5.0.0,>=4.38.0 in c:\\users\\award\\appdata\\local\\programs\\python\\python310\\lib\\site-packages (from spacy<4->fastai>=2.0.0->-r requirements.txt (line 1)) (4.64.0)\n",
      "Requirement already satisfied: spacy-legacy<3.1.0,>=3.0.9 in c:\\users\\award\\appdata\\local\\programs\\python\\python310\\lib\\site-packages (from spacy<4->fastai>=2.0.0->-r requirements.txt (line 1)) (3.0.9)\n",
      "Requirement already satisfied: blis<0.8.0,>=0.4.0 in c:\\users\\award\\appdata\\local\\programs\\python\\python310\\lib\\site-packages (from spacy<4->fastai>=2.0.0->-r requirements.txt (line 1)) (0.7.7)\n",
      "Requirement already satisfied: preshed<3.1.0,>=3.0.2 in c:\\users\\award\\appdata\\local\\programs\\python\\python310\\lib\\site-packages (from spacy<4->fastai>=2.0.0->-r requirements.txt (line 1)) (3.0.6)\n",
      "Requirement already satisfied: cymem<2.1.0,>=2.0.2 in c:\\users\\award\\appdata\\local\\programs\\python\\python310\\lib\\site-packages (from spacy<4->fastai>=2.0.0->-r requirements.txt (line 1)) (2.0.6)\n",
      "Requirement already satisfied: thinc<8.1.0,>=8.0.14 in c:\\users\\award\\appdata\\local\\programs\\python\\python310\\lib\\site-packages (from spacy<4->fastai>=2.0.0->-r requirements.txt (line 1)) (8.0.15)\n",
      "Requirement already satisfied: pathy>=0.3.5 in c:\\users\\award\\appdata\\local\\programs\\python\\python310\\lib\\site-packages (from spacy<4->fastai>=2.0.0->-r requirements.txt (line 1)) (0.6.1)\n",
      "Requirement already satisfied: murmurhash<1.1.0,>=0.28.0 in c:\\users\\award\\appdata\\local\\programs\\python\\python310\\lib\\site-packages (from spacy<4->fastai>=2.0.0->-r requirements.txt (line 1)) (1.0.7)\n",
      "Requirement already satisfied: srsly<3.0.0,>=2.4.3 in c:\\users\\award\\appdata\\local\\programs\\python\\python310\\lib\\site-packages (from spacy<4->fastai>=2.0.0->-r requirements.txt (line 1)) (2.4.3)\n",
      "Requirement already satisfied: langcodes<4.0.0,>=3.2.0 in c:\\users\\award\\appdata\\local\\programs\\python\\python310\\lib\\site-packages (from spacy<4->fastai>=2.0.0->-r requirements.txt (line 1)) (3.3.0)\n",
      "Requirement already satisfied: pydantic!=1.8,!=1.8.1,<1.9.0,>=1.7.4 in c:\\users\\award\\appdata\\local\\programs\\python\\python310\\lib\\site-packages (from spacy<4->fastai>=2.0.0->-r requirements.txt (line 1)) (1.8.2)\n",
      "Requirement already satisfied: wasabi<1.1.0,>=0.9.1 in c:\\users\\award\\appdata\\local\\programs\\python\\python310\\lib\\site-packages (from spacy<4->fastai>=2.0.0->-r requirements.txt (line 1)) (0.9.1)\n",
      "Requirement already satisfied: typing-extensions in c:\\users\\award\\appdata\\local\\programs\\python\\python310\\lib\\site-packages (from torch<1.12,>=1.7.0->fastai>=2.0.0->-r requirements.txt (line 1)) (4.1.1)\n",
      "Requirement already satisfied: notebook>=4.4.1 in c:\\users\\award\\appdata\\local\\programs\\python\\python310\\lib\\site-packages (from widgetsnbextension~=3.6.0->ipywidgets->-r requirements.txt (line 3)) (6.4.11)\n",
      "Requirement already satisfied: jupyter-console in c:\\users\\award\\appdata\\local\\programs\\python\\python310\\lib\\site-packages (from jupyter->nbdev>=0.2.12->-r requirements.txt (line 5)) (6.4.3)\n",
      "Requirement already satisfied: qtconsole in c:\\users\\award\\appdata\\local\\programs\\python\\python310\\lib\\site-packages (from jupyter->nbdev>=0.2.12->-r requirements.txt (line 5)) (5.3.0)\n",
      "Requirement already satisfied: cryptography>=1.1.0 in c:\\users\\award\\appdata\\local\\programs\\python\\python310\\lib\\site-packages (from adal<2.0.0,>=0.6.0->msrestazure<2.0.0,>=0.4.32->azure-cognitiveservices-search-imagesearch->-r requirements.txt (line 8)) (37.0.2)\n",
      "Requirement already satisfied: PyJWT<3,>=1.0.0 in c:\\users\\award\\appdata\\local\\programs\\python\\python310\\lib\\site-packages (from adal<2.0.0,>=0.6.0->msrestazure<2.0.0,>=0.4.32->azure-cognitiveservices-search-imagesearch->-r requirements.txt (line 8)) (2.4.0)\n",
      "Requirement already satisfied: parso<0.9.0,>=0.8.0 in c:\\users\\award\\appdata\\local\\programs\\python\\python310\\lib\\site-packages (from jedi>=0.16->ipython>=4.0.0->ipywidgets->-r requirements.txt (line 3)) (0.8.3)\n",
      "Requirement already satisfied: pyrsistent!=0.17.0,!=0.17.1,!=0.17.2,>=0.14.0 in c:\\users\\award\\appdata\\local\\programs\\python\\python310\\lib\\site-packages (from jsonschema>=2.6->nbformat>=4.2.0->ipywidgets->-r requirements.txt (line 3)) (0.18.1)\n",
      "Requirement already satisfied: attrs>=17.4.0 in c:\\users\\award\\appdata\\local\\programs\\python\\python310\\lib\\site-packages (from jsonschema>=2.6->nbformat>=4.2.0->ipywidgets->-r requirements.txt (line 3)) (21.4.0)\n",
      "Requirement already satisfied: pywin32>=1.0 in c:\\users\\award\\appdata\\local\\programs\\python\\python310\\lib\\site-packages (from jupyter-core>=4.9.2->jupyter-client<8->nbdev>=0.2.12->-r requirements.txt (line 5)) (304)\n",
      "Requirement already satisfied: Send2Trash>=1.8.0 in c:\\users\\award\\appdata\\local\\programs\\python\\python310\\lib\\site-packages (from notebook>=4.4.1->widgetsnbextension~=3.6.0->ipywidgets->-r requirements.txt (line 3)) (1.8.0)\n",
      "Requirement already satisfied: prometheus-client in c:\\users\\award\\appdata\\local\\programs\\python\\python310\\lib\\site-packages (from notebook>=4.4.1->widgetsnbextension~=3.6.0->ipywidgets->-r requirements.txt (line 3)) (0.14.1)\n",
      "Requirement already satisfied: terminado>=0.8.3 in c:\\users\\award\\appdata\\local\\programs\\python\\python310\\lib\\site-packages (from notebook>=4.4.1->widgetsnbextension~=3.6.0->ipywidgets->-r requirements.txt (line 3)) (0.13.3)\n",
      "Requirement already satisfied: argon2-cffi in c:\\users\\award\\appdata\\local\\programs\\python\\python310\\lib\\site-packages (from notebook>=4.4.1->widgetsnbextension~=3.6.0->ipywidgets->-r requirements.txt (line 3)) (21.3.0)\n",
      "Requirement already satisfied: smart-open<6.0.0,>=5.0.0 in c:\\users\\award\\appdata\\local\\programs\\python\\python310\\lib\\site-packages (from pathy>=0.3.5->spacy<4->fastai>=2.0.0->-r requirements.txt (line 1)) (5.2.1)\n",
      "Requirement already satisfied: wcwidth in c:\\users\\award\\appdata\\local\\programs\\python\\python310\\lib\\site-packages (from prompt-toolkit!=3.0.0,!=3.0.1,<3.1.0,>=2.0.0->ipython>=4.0.0->ipywidgets->-r requirements.txt (line 3)) (0.2.5)\n",
      "Requirement already satisfied: oauthlib>=3.0.0 in c:\\users\\award\\appdata\\local\\programs\\python\\python310\\lib\\site-packages (from requests-oauthlib>=0.5.0->msrest>=0.5.0->azure-cognitiveservices-search-imagesearch->-r requirements.txt (line 8)) (3.2.0)\n",
      "Requirement already satisfied: click<9.0.0,>=7.1.1 in c:\\users\\award\\appdata\\local\\programs\\python\\python310\\lib\\site-packages (from typer<0.5.0,>=0.3.0->spacy<4->fastai>=2.0.0->-r requirements.txt (line 1)) (8.0.4)\n",
      "Requirement already satisfied: soupsieve>1.2 in c:\\users\\award\\appdata\\local\\programs\\python\\python310\\lib\\site-packages (from beautifulsoup4->nbconvert>=6.1->nbdev>=0.2.12->-r requirements.txt (line 5)) (2.3.2.post1)\n",
      "Requirement already satisfied: webencodings in c:\\users\\award\\appdata\\local\\programs\\python\\python310\\lib\\site-packages (from bleach->nbconvert>=6.1->nbdev>=0.2.12->-r requirements.txt (line 5)) (0.5.1)\n",
      "Requirement already satisfied: qtpy>=2.0.1 in c:\\users\\award\\appdata\\local\\programs\\python\\python310\\lib\\site-packages (from qtconsole->jupyter->nbdev>=0.2.12->-r requirements.txt (line 5)) (2.1.0)\n",
      "Requirement already satisfied: pure-eval in c:\\users\\award\\appdata\\local\\programs\\python\\python310\\lib\\site-packages (from stack-data->ipython>=4.0.0->ipywidgets->-r requirements.txt (line 3)) (0.2.2)\n",
      "Requirement already satisfied: executing in c:\\users\\award\\appdata\\local\\programs\\python\\python310\\lib\\site-packages (from stack-data->ipython>=4.0.0->ipywidgets->-r requirements.txt (line 3)) (0.8.3)\n",
      "Requirement already satisfied: asttokens in c:\\users\\award\\appdata\\local\\programs\\python\\python310\\lib\\site-packages (from stack-data->ipython>=4.0.0->ipywidgets->-r requirements.txt (line 3)) (2.0.5)\n",
      "Requirement already satisfied: cffi>=1.12 in c:\\users\\award\\appdata\\local\\programs\\python\\python310\\lib\\site-packages (from cryptography>=1.1.0->adal<2.0.0,>=0.6.0->msrestazure<2.0.0,>=0.4.32->azure-cognitiveservices-search-imagesearch->-r requirements.txt (line 8)) (1.15.0)\n",
      "Requirement already satisfied: pywinpty>=1.1.0 in c:\\users\\award\\appdata\\local\\programs\\python\\python310\\lib\\site-packages (from terminado>=0.8.3->notebook>=4.4.1->widgetsnbextension~=3.6.0->ipywidgets->-r requirements.txt (line 3)) (2.0.5)\n",
      "Requirement already satisfied: argon2-cffi-bindings in c:\\users\\award\\appdata\\local\\programs\\python\\python310\\lib\\site-packages (from argon2-cffi->notebook>=4.4.1->widgetsnbextension~=3.6.0->ipywidgets->-r requirements.txt (line 3)) (21.2.0)\n",
      "Requirement already satisfied: pycparser in c:\\users\\award\\appdata\\local\\programs\\python\\python310\\lib\\site-packages (from cffi>=1.12->cryptography>=1.1.0->adal<2.0.0,>=0.6.0->msrestazure<2.0.0,>=0.4.32->azure-cognitiveservices-search-imagesearch->-r requirements.txt (line 8)) (2.21)\n"
     ]
    },
    {
     "name": "stderr",
     "output_type": "stream",
     "text": [
      "WARNING: You are using pip version 22.0.4; however, version 22.1 is available.\n",
      "You should consider upgrading via the 'C:\\Users\\award\\AppData\\Local\\Programs\\Python\\Python310\\python.exe -m pip install --upgrade pip' command.\n"
     ]
    }
   ],
   "source": [
    "!jupyter serverextension enable voila --sys-prefix\n",
    "!pip install -r requirements.txt;"
   ]
  },
  {
   "cell_type": "code",
   "execution_count": 2,
   "id": "9a649c85-d7c4-4b8d-8293-7d0a8f886b3c",
   "metadata": {},
   "outputs": [],
   "source": [
    "from fastai.vision.all import *\n",
    "from fastai.vision.widgets import *"
   ]
  },
  {
   "cell_type": "markdown",
   "id": "cf13ab9c-0a28-40bc-9f32-37aa09a1c1af",
   "metadata": {},
   "source": [
    "# The Amazing bear classifier!\n",
    "This widget can distinguish between a grizzly bear, a brown bear and a teady bear and absolutely nothing else. Give it a try!"
   ]
  },
  {
   "cell_type": "code",
   "execution_count": 3,
   "id": "e5f1ca22-c4ff-4f47-b10d-54b1b14db2dc",
   "metadata": {},
   "outputs": [
    {
     "ename": "NotImplementedError",
     "evalue": "cannot instantiate 'PosixPath' on your system",
     "output_type": "error",
     "traceback": [
      "\u001b[1;31m---------------------------------------------------------------------------\u001b[0m",
      "\u001b[1;31mNotImplementedError\u001b[0m                       Traceback (most recent call last)",
      "\u001b[1;32mc:\\Users\\award\\dev\\bear-classifier\\bear-classifier.ipynb Cell 4'\u001b[0m in \u001b[0;36m<cell line: 2>\u001b[1;34m()\u001b[0m\n\u001b[0;32m      <a href='vscode-notebook-cell:/c%3A/Users/award/dev/bear-classifier/bear-classifier.ipynb#ch0000003?line=0'>1</a>\u001b[0m path \u001b[39m=\u001b[39m Path()\n\u001b[1;32m----> <a href='vscode-notebook-cell:/c%3A/Users/award/dev/bear-classifier/bear-classifier.ipynb#ch0000003?line=1'>2</a>\u001b[0m learn_inf \u001b[39m=\u001b[39m load_learner(\u001b[39m'\u001b[39;49m\u001b[39mexport.pkl\u001b[39;49m\u001b[39m'\u001b[39;49m, cpu\u001b[39m=\u001b[39;49m\u001b[39mTrue\u001b[39;49;00m)\n\u001b[0;32m      <a href='vscode-notebook-cell:/c%3A/Users/award/dev/bear-classifier/bear-classifier.ipynb#ch0000003?line=2'>3</a>\u001b[0m btn_upload \u001b[39m=\u001b[39m widgets\u001b[39m.\u001b[39mFileUpload()\n\u001b[0;32m      <a href='vscode-notebook-cell:/c%3A/Users/award/dev/bear-classifier/bear-classifier.ipynb#ch0000003?line=3'>4</a>\u001b[0m out_pl \u001b[39m=\u001b[39m widgets\u001b[39m.\u001b[39mOutput()\n",
      "File \u001b[1;32mc:\\Users\\award\\AppData\\Local\\Programs\\Python\\Python310\\lib\\site-packages\\fastai\\learner.py:392\u001b[0m, in \u001b[0;36mload_learner\u001b[1;34m(fname, cpu, pickle_module)\u001b[0m\n\u001b[0;32m    <a href='file:///c%3A/Users/award/AppData/Local/Programs/Python/Python310/lib/site-packages/fastai/learner.py?line=389'>390</a>\u001b[0m \u001b[39m\"\u001b[39m\u001b[39mLoad a `Learner` object in `fname`, optionally putting it on the `cpu`\u001b[39m\u001b[39m\"\u001b[39m\n\u001b[0;32m    <a href='file:///c%3A/Users/award/AppData/Local/Programs/Python/Python310/lib/site-packages/fastai/learner.py?line=390'>391</a>\u001b[0m distrib_barrier()\n\u001b[1;32m--> <a href='file:///c%3A/Users/award/AppData/Local/Programs/Python/Python310/lib/site-packages/fastai/learner.py?line=391'>392</a>\u001b[0m \u001b[39mtry\u001b[39;00m: res \u001b[39m=\u001b[39m torch\u001b[39m.\u001b[39;49mload(fname, map_location\u001b[39m=\u001b[39;49m\u001b[39m'\u001b[39;49m\u001b[39mcpu\u001b[39;49m\u001b[39m'\u001b[39;49m \u001b[39mif\u001b[39;49;00m cpu \u001b[39melse\u001b[39;49;00m \u001b[39mNone\u001b[39;49;00m, pickle_module\u001b[39m=\u001b[39;49mpickle_module)\n\u001b[0;32m    <a href='file:///c%3A/Users/award/AppData/Local/Programs/Python/Python310/lib/site-packages/fastai/learner.py?line=392'>393</a>\u001b[0m \u001b[39mexcept\u001b[39;00m \u001b[39mAttributeError\u001b[39;00m \u001b[39mas\u001b[39;00m e:\n\u001b[0;32m    <a href='file:///c%3A/Users/award/AppData/Local/Programs/Python/Python310/lib/site-packages/fastai/learner.py?line=393'>394</a>\u001b[0m     e\u001b[39m.\u001b[39margs \u001b[39m=\u001b[39m [\u001b[39mf\u001b[39m\u001b[39m\"\u001b[39m\u001b[39mCustom classes or functions exported with your `Learner` are not available in the namespace currently.\u001b[39m\u001b[39m\\n\u001b[39;00m\u001b[39mPlease re-declare or import them before calling `load_learner`:\u001b[39m\u001b[39m\\n\u001b[39;00m\u001b[39m\\t\u001b[39;00m\u001b[39m{\u001b[39;00me\u001b[39m.\u001b[39margs[\u001b[39m0\u001b[39m]\u001b[39m}\u001b[39;00m\u001b[39m\"\u001b[39m]\n",
      "File \u001b[1;32mc:\\Users\\award\\AppData\\Local\\Programs\\Python\\Python310\\lib\\site-packages\\torch\\serialization.py:712\u001b[0m, in \u001b[0;36mload\u001b[1;34m(f, map_location, pickle_module, **pickle_load_args)\u001b[0m\n\u001b[0;32m    <a href='file:///c%3A/Users/award/AppData/Local/Programs/Python/Python310/lib/site-packages/torch/serialization.py?line=709'>710</a>\u001b[0m             opened_file\u001b[39m.\u001b[39mseek(orig_position)\n\u001b[0;32m    <a href='file:///c%3A/Users/award/AppData/Local/Programs/Python/Python310/lib/site-packages/torch/serialization.py?line=710'>711</a>\u001b[0m             \u001b[39mreturn\u001b[39;00m torch\u001b[39m.\u001b[39mjit\u001b[39m.\u001b[39mload(opened_file)\n\u001b[1;32m--> <a href='file:///c%3A/Users/award/AppData/Local/Programs/Python/Python310/lib/site-packages/torch/serialization.py?line=711'>712</a>\u001b[0m         \u001b[39mreturn\u001b[39;00m _load(opened_zipfile, map_location, pickle_module, \u001b[39m*\u001b[39m\u001b[39m*\u001b[39mpickle_load_args)\n\u001b[0;32m    <a href='file:///c%3A/Users/award/AppData/Local/Programs/Python/Python310/lib/site-packages/torch/serialization.py?line=712'>713</a>\u001b[0m \u001b[39mreturn\u001b[39;00m _legacy_load(opened_file, map_location, pickle_module, \u001b[39m*\u001b[39m\u001b[39m*\u001b[39mpickle_load_args)\n",
      "File \u001b[1;32mc:\\Users\\award\\AppData\\Local\\Programs\\Python\\Python310\\lib\\site-packages\\torch\\serialization.py:1046\u001b[0m, in \u001b[0;36m_load\u001b[1;34m(zip_file, map_location, pickle_module, pickle_file, **pickle_load_args)\u001b[0m\n\u001b[0;32m   <a href='file:///c%3A/Users/award/AppData/Local/Programs/Python/Python310/lib/site-packages/torch/serialization.py?line=1043'>1044</a>\u001b[0m unpickler \u001b[39m=\u001b[39m UnpicklerWrapper(data_file, \u001b[39m*\u001b[39m\u001b[39m*\u001b[39mpickle_load_args)\n\u001b[0;32m   <a href='file:///c%3A/Users/award/AppData/Local/Programs/Python/Python310/lib/site-packages/torch/serialization.py?line=1044'>1045</a>\u001b[0m unpickler\u001b[39m.\u001b[39mpersistent_load \u001b[39m=\u001b[39m persistent_load\n\u001b[1;32m-> <a href='file:///c%3A/Users/award/AppData/Local/Programs/Python/Python310/lib/site-packages/torch/serialization.py?line=1045'>1046</a>\u001b[0m result \u001b[39m=\u001b[39m unpickler\u001b[39m.\u001b[39;49mload()\n\u001b[0;32m   <a href='file:///c%3A/Users/award/AppData/Local/Programs/Python/Python310/lib/site-packages/torch/serialization.py?line=1047'>1048</a>\u001b[0m torch\u001b[39m.\u001b[39m_utils\u001b[39m.\u001b[39m_validate_loaded_sparse_tensors()\n\u001b[0;32m   <a href='file:///c%3A/Users/award/AppData/Local/Programs/Python/Python310/lib/site-packages/torch/serialization.py?line=1049'>1050</a>\u001b[0m \u001b[39mreturn\u001b[39;00m result\n",
      "File \u001b[1;32mc:\\Users\\award\\AppData\\Local\\Programs\\Python\\Python310\\lib\\pathlib.py:960\u001b[0m, in \u001b[0;36mPath.__new__\u001b[1;34m(cls, *args, **kwargs)\u001b[0m\n\u001b[0;32m    <a href='file:///c%3A/Users/award/AppData/Local/Programs/Python/Python310/lib/pathlib.py?line=957'>958</a>\u001b[0m \u001b[39mself\u001b[39m \u001b[39m=\u001b[39m \u001b[39mcls\u001b[39m\u001b[39m.\u001b[39m_from_parts(args)\n\u001b[0;32m    <a href='file:///c%3A/Users/award/AppData/Local/Programs/Python/Python310/lib/pathlib.py?line=958'>959</a>\u001b[0m \u001b[39mif\u001b[39;00m \u001b[39mnot\u001b[39;00m \u001b[39mself\u001b[39m\u001b[39m.\u001b[39m_flavour\u001b[39m.\u001b[39mis_supported:\n\u001b[1;32m--> <a href='file:///c%3A/Users/award/AppData/Local/Programs/Python/Python310/lib/pathlib.py?line=959'>960</a>\u001b[0m     \u001b[39mraise\u001b[39;00m \u001b[39mNotImplementedError\u001b[39;00m(\u001b[39m\"\u001b[39m\u001b[39mcannot instantiate \u001b[39m\u001b[39m%r\u001b[39;00m\u001b[39m on your system\u001b[39m\u001b[39m\"\u001b[39m\n\u001b[0;32m    <a href='file:///c%3A/Users/award/AppData/Local/Programs/Python/Python310/lib/pathlib.py?line=960'>961</a>\u001b[0m                               \u001b[39m%\u001b[39m (\u001b[39mcls\u001b[39m\u001b[39m.\u001b[39m\u001b[39m__name__\u001b[39m,))\n\u001b[0;32m    <a href='file:///c%3A/Users/award/AppData/Local/Programs/Python/Python310/lib/pathlib.py?line=961'>962</a>\u001b[0m \u001b[39mreturn\u001b[39;00m \u001b[39mself\u001b[39m\n",
      "\u001b[1;31mNotImplementedError\u001b[0m: cannot instantiate 'PosixPath' on your system"
     ]
    }
   ],
   "source": [
    "path = Path()\n",
    "learn_inf = load_learner('export.pkl', cpu=True)\n",
    "btn_upload = widgets.FileUpload()\n",
    "out_pl = widgets.Output()\n",
    "lbl_pred = widgets.Label()\n",
    "btn_run = widgets.Button(description=‘Classify’)\n"
   ]
  },
  {
   "cell_type": "code",
   "execution_count": 4,
   "id": "90b31921-c381-4f33-bf43-3d7d00913e1f",
   "metadata": {},
   "outputs": [],
   "source": [
    "def on_click_classify(change):\n",
    "    img = PILImage.create(btn_upload.data[-1])\n",
    "    out_pl.clear_output()\n",
    "    with out_pl: display(img.to_thumb(128,128))\n",
    "    pred,pred_idx,probs = learn_inf.predict(img)\n",
    "    lbl_pred.value = f'Prediction: {pred}; Probability: {probs[pred_idx]:.04f}'"
   ]
  },
  {
   "cell_type": "code",
   "execution_count": 6,
   "id": "0fd81c05-126a-405d-9e6a-8da6711c518d",
   "metadata": {},
   "outputs": [
    {
     "ename": "NameError",
     "evalue": "name 'btn_upload' is not defined",
     "output_type": "error",
     "traceback": [
      "\u001b[1;31m---------------------------------------------------------------------------\u001b[0m",
      "\u001b[1;31mNameError\u001b[0m                                 Traceback (most recent call last)",
      "\u001b[1;32mc:\\Users\\award\\dev\\bear-classifier\\bear-classifier.ipynb Cell 6'\u001b[0m in \u001b[0;36m<cell line: 1>\u001b[1;34m()\u001b[0m\n\u001b[1;32m----> <a href='vscode-notebook-cell:/c%3A/Users/award/dev/bear-classifier/bear-classifier.ipynb#ch0000005?line=0'>1</a>\u001b[0m btn_upload\u001b[39m.\u001b[39mobserve(on_click_classify, names\u001b[39m=\u001b[39m[\u001b[39m'\u001b[39m\u001b[39mdata\u001b[39m\u001b[39m'\u001b[39m])\n",
      "\u001b[1;31mNameError\u001b[0m: name 'btn_upload' is not defined"
     ]
    }
   ],
   "source": [
    "btn_upload.observe(on_click_classify, names=['data'])"
   ]
  },
  {
   "cell_type": "code",
   "execution_count": 5,
   "id": "59c6f9ab-262c-4ae1-8b90-bc5682f66667",
   "metadata": {},
   "outputs": [
    {
     "ename": "NameError",
     "evalue": "name 'btn_upload' is not defined",
     "output_type": "error",
     "traceback": [
      "\u001b[1;31m---------------------------------------------------------------------------\u001b[0m",
      "\u001b[1;31mNameError\u001b[0m                                 Traceback (most recent call last)",
      "\u001b[1;32mc:\\Users\\award\\dev\\bear-classifier\\bear-classifier.ipynb Cell 7'\u001b[0m in \u001b[0;36m<cell line: 1>\u001b[1;34m()\u001b[0m\n\u001b[0;32m      <a href='vscode-notebook-cell:/c%3A/Users/award/dev/bear-classifier/bear-classifier.ipynb#ch0000006?line=0'>1</a>\u001b[0m display(VBox([widgets\u001b[39m.\u001b[39mLabel(\u001b[39m'\u001b[39m\u001b[39mSelect your bear!\u001b[39m\u001b[39m'\u001b[39m), \n\u001b[1;32m----> <a href='vscode-notebook-cell:/c%3A/Users/award/dev/bear-classifier/bear-classifier.ipynb#ch0000006?line=1'>2</a>\u001b[0m       btn_upload, out_pl, lbl_pred]))\n",
      "\u001b[1;31mNameError\u001b[0m: name 'btn_upload' is not defined"
     ]
    }
   ],
   "source": [
    "display(VBox([widgets.Label('Select your bear!'), \n",
    "      btn_upload, out_pl, lbl_pred]))"
   ]
  },
  {
   "cell_type": "code",
   "execution_count": null,
   "id": "e8c12e58-6413-4262-915b-bf39fd9d4363",
   "metadata": {},
   "outputs": [],
   "source": []
  }
 ],
 "metadata": {
  "interpreter": {
   "hash": "61470cf8924c6466a9980adc0303385cd5a221c09164624b9ea5ab1675b1f8c0"
  },
  "kernelspec": {
   "display_name": "Python 3.10.4 64-bit",
   "language": "python",
   "name": "python3"
  },
  "language_info": {
   "codemirror_mode": {
    "name": "ipython",
    "version": 3
   },
   "file_extension": ".py",
   "mimetype": "text/x-python",
   "name": "python",
   "nbconvert_exporter": "python",
   "pygments_lexer": "ipython3",
   "version": "3.10.4"
  }
 },
 "nbformat": 4,
 "nbformat_minor": 5
}
